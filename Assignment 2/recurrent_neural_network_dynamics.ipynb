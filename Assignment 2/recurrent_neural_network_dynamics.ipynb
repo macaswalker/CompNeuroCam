{
 "cells": [
  {
   "cell_type": "markdown",
   "metadata": {},
   "source": [
    "# Assignment 2 - Recurrent Neural Network Dynamics "
   ]
  },
  {
   "cell_type": "markdown",
   "metadata": {},
   "source": [
    "This coursework is a study of how well a recurrent networo model of primary visual cortex (V1) can represent specific features (we will use the example of orientation) of a brief visual stimulus, in the face of readout noise, depending on its connectivity."
   ]
  },
  {
   "cell_type": "markdown",
   "metadata": {},
   "source": [
    "We will begin with the experimental set up:\n",
    "\n",
    "## Technical Set Up"
   ]
  },
  {
   "cell_type": "code",
   "execution_count": 1,
   "metadata": {},
   "outputs": [],
   "source": [
    "import numpy as np\n",
    "import matplotlib.pyplot as plt"
   ]
  },
  {
   "cell_type": "markdown",
   "metadata": {},
   "source": [
    "## Experimental Set Up"
   ]
  },
  {
   "cell_type": "markdown",
   "metadata": {},
   "source": [
    "### Default Parameters"
   ]
  },
  {
   "cell_type": "code",
   "execution_count": 13,
   "metadata": {},
   "outputs": [
    {
     "name": "stdout",
     "output_type": "stream",
     "text": [
      "0.0\n"
     ]
    }
   ],
   "source": [
    "tau = 20 # characteristic neuron time constant (in ms)\n",
    "\n",
    "m = 200 # number of regularly spaced orientations\n",
    "\n",
    "n = 200 # number of neuronal inputs\n",
    "\n",
    "B = np.eye(m,n) # feedforward input weights\n",
    "\n",
    "C = np.eye(m,n) # matrix of output weights\n",
    "\n",
    "sigma = 1 # noise of readout activity \n",
    "\n",
    "k = np.pi/4 # encoder constant\n",
    "\n",
    "alpha = 0.9 # recurrent connection strength constant 1\n",
    "\n",
    "alpha_dash = 0.9 # recurrent connection strength constant 2\n",
    "\n",
    "phi = 2 * np.pi * np.linspace(0,1,m) # grid of regularly spaced parameters\n",
    "\n",
    "dt = 1 # timestep (in ms)"
   ]
  },
  {
   "cell_type": "markdown",
   "metadata": {},
   "source": [
    "### Default Functions"
   ]
  },
  {
   "cell_type": "code",
   "execution_count": 21,
   "metadata": {},
   "outputs": [],
   "source": [
    "# Tuning Function\n",
    "def V(z):\n",
    "    return np.exp( (np.cos(z)-1) * k**(-2))\n",
    "\n",
    "\n",
    "# Input Encoding Function\n",
    "def h(theta):\n",
    "    return V(phi-theta)\n",
    "\n",
    "\n",
    "# Euler Discretised Update Function\n",
    "def update_r(r_t, t, W, B, h_theta, tau, dt):\n",
    "    delta_input = (B @ h_theta) / dt if t == 0 else 0\n",
    "    drdt = -r_t + W @ r_t + delta_input\n",
    "    return r_t + (dt/tau) * drdt\n",
    "\n",
    "\n",
    "# Noisy Readout of V1 Activity\n",
    "def o_tilde(C, r_t, sigma):\n",
    "    noise = np.random.normal(0,1, size = len(r_t))\n",
    "    return C @ r_t + sigma * noise \n",
    "\n",
    "\n",
    "# Noisy Readout Decoding\n",
    "def theta_hat(phi, o_tilde):\n",
    "    x = np.sum(o_tilde * np.sin(phi))\n",
    "    y = np.sum(o_tilde * np.cos(phi))\n",
    "    return np.arctan2(y,x)\n",
    "\n",
    "\n",
    "# Circular Distance \n",
    "def d(theta_hat, theta):\n",
    "    return np.arccos(np.cos(theta_hat-theta))"
   ]
  },
  {
   "cell_type": "markdown",
   "metadata": {},
   "source": [
    "## Different Models of Recurrence"
   ]
  },
  {
   "cell_type": "markdown",
   "metadata": {},
   "source": [
    "### **Model 1: no recurrence**\n",
    "For this model, $n = m$ and $W^{(1)} = 0_m$ (the $m \\times m$ matrix full of zeros).\n",
    "\n",
    "---\n",
    "\n",
    "### **Model 2: random symmetric connectivity**\n",
    "For this model, $n = m$ and  \n",
    "$$\n",
    "W^{(2)} = \\mathcal{R}(\\tilde{W} + \\tilde{W}^\\top, \\alpha)\n",
    "$$  \n",
    "with $\\tilde{W}_{ij} \\sim \\mathcal{N}(0, 1)$ i.i.d.  \n",
    "The random weights will be generated once and for all before any simulation of the network dynamics with various $\\theta$'s.\n",
    "\n",
    "---\n",
    "\n",
    "### **Model 3: symmetric ring structure**\n",
    "For this model, $n = m$ and  \n",
    "$$\n",
    "W^{(3)} = \\mathcal{R}(\\tilde{W}, \\alpha)\n",
    "$$  \n",
    "with $\\tilde{W}_{ij} = \\mathcal{V}(\\phi_i - \\phi_j)$, where $\\{ \\phi_i \\}$ and $\\mathcal{V}(\\cdot)$ have been defined previously.\n",
    "\n",
    "---\n",
    "\n",
    "### **Model 4: balanced ring structure**\n",
    "For this model, $n = 2m$, and  \n",
    "$$\n",
    "W^{(4)} = \n",
    "\\begin{pmatrix}\n",
    "\\tilde{W} & -\\tilde{W} \\\\\n",
    "\\tilde{W} & -\\tilde{W}\n",
    "\\end{pmatrix}\n",
    "$$  \n",
    "with $\\tilde{W}_{ij} = \\mathcal{R}(W^{(3)}, \\alpha')$.  \n",
    "As $n = 2m$, we can no longer use $B = C = I$ as in Table 1. Instead, we use:\n",
    "\n",
    "$$\n",
    "B = \\begin{pmatrix} I_m \\\\ 0_m \\end{pmatrix}, \\quad \n",
    "C = (I_m, 0_m)\n",
    "$$\n",
    "\n",
    "where $I_m$ denotes the $m \\times m$ identity matrix.\n"
   ]
  },
  {
   "cell_type": "markdown",
   "metadata": {},
   "source": [
    "## Questions and Experiments"
   ]
  },
  {
   "cell_type": "markdown",
   "metadata": {},
   "source": [
    "### Question 1 - Integrating the Dynamics of the 4 different Models"
   ]
  }
 ],
 "metadata": {
  "kernelspec": {
   "display_name": "Python 3.12.0 ('.venv': venv)",
   "language": "python",
   "name": "python3"
  },
  "language_info": {
   "codemirror_mode": {
    "name": "ipython",
    "version": 3
   },
   "file_extension": ".py",
   "mimetype": "text/x-python",
   "name": "python",
   "nbconvert_exporter": "python",
   "pygments_lexer": "ipython3",
   "version": "3.12.0"
  },
  "orig_nbformat": 4,
  "vscode": {
   "interpreter": {
    "hash": "ad8b151f02dbe9c46f75d2385ff0e4d6e3b03c869c4d87a8c9d34e2cf0d73017"
   }
  }
 },
 "nbformat": 4,
 "nbformat_minor": 2
}
